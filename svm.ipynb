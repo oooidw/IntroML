{
 "cells": [
  {
   "cell_type": "code",
   "execution_count": 1,
   "metadata": {},
   "outputs": [],
   "source": [
    "import pandas as pd\n",
    "from sklearn.model_selection import train_test_split\n",
    "import numpy as np\n",
    "import matplotlib.pyplot as plt\n",
    "from sklearn.metrics import accuracy_score\n",
    "from sklearn.model_selection import cross_val_score\n",
    "from sklearn.svm import SVC\n",
    "from sklearn.model_selection import GridSearchCV\n",
    "from sklearn.preprocessing import StandardScaler\n",
    "from sklearn.metrics import balanced_accuracy_score\n",
    "from sklearn.metrics import make_scorer\n",
    "from sklearn.metrics import f1_score\n",
    "\n",
    "import warnings\n",
    "warnings.filterwarnings(\"ignore\")"
   ]
  },
  {
   "cell_type": "code",
   "execution_count": 2,
   "metadata": {},
   "outputs": [],
   "source": [
    "# Set the seed for numpy\n",
    "np.random.seed(42)\n",
    "\n",
    "# Set plots style\n",
    "plt.style.use('seaborn-v0_8')"
   ]
  },
  {
   "cell_type": "markdown",
   "metadata": {},
   "source": [
    "# Dataset"
   ]
  },
  {
   "cell_type": "code",
   "execution_count": 8,
   "metadata": {},
   "outputs": [
    {
     "data": {
      "text/html": [
       "<div>\n",
       "<style scoped>\n",
       "    .dataframe tbody tr th:only-of-type {\n",
       "        vertical-align: middle;\n",
       "    }\n",
       "\n",
       "    .dataframe tbody tr th {\n",
       "        vertical-align: top;\n",
       "    }\n",
       "\n",
       "    .dataframe thead th {\n",
       "        text-align: right;\n",
       "    }\n",
       "</style>\n",
       "<table border=\"1\" class=\"dataframe\">\n",
       "  <thead>\n",
       "    <tr style=\"text-align: right;\">\n",
       "      <th></th>\n",
       "      <th>Class</th>\n",
       "      <th>Eccentricity</th>\n",
       "      <th>Aspect Ratio</th>\n",
       "      <th>Elongation</th>\n",
       "      <th>Solidity</th>\n",
       "      <th>Stochastic Convexity</th>\n",
       "      <th>Isoperimetric Factor</th>\n",
       "      <th>Maximal Indentation Depth</th>\n",
       "      <th>Lobedness</th>\n",
       "      <th>Average Intensity</th>\n",
       "      <th>Average Contrast</th>\n",
       "      <th>Smoothness</th>\n",
       "      <th>Third moment</th>\n",
       "      <th>Uniformity</th>\n",
       "      <th>Entropy</th>\n",
       "    </tr>\n",
       "  </thead>\n",
       "  <tbody>\n",
       "    <tr>\n",
       "      <th>0</th>\n",
       "      <td>1</td>\n",
       "      <td>0.72694</td>\n",
       "      <td>1.4742</td>\n",
       "      <td>0.32396</td>\n",
       "      <td>0.98535</td>\n",
       "      <td>1.00000</td>\n",
       "      <td>0.83592</td>\n",
       "      <td>0.004657</td>\n",
       "      <td>0.003947</td>\n",
       "      <td>0.047790</td>\n",
       "      <td>0.127950</td>\n",
       "      <td>0.016108</td>\n",
       "      <td>0.005232</td>\n",
       "      <td>0.000275</td>\n",
       "      <td>1.17560</td>\n",
       "    </tr>\n",
       "    <tr>\n",
       "      <th>1</th>\n",
       "      <td>1</td>\n",
       "      <td>0.74173</td>\n",
       "      <td>1.5257</td>\n",
       "      <td>0.36116</td>\n",
       "      <td>0.98152</td>\n",
       "      <td>0.99825</td>\n",
       "      <td>0.79867</td>\n",
       "      <td>0.005242</td>\n",
       "      <td>0.005002</td>\n",
       "      <td>0.024160</td>\n",
       "      <td>0.090476</td>\n",
       "      <td>0.008119</td>\n",
       "      <td>0.002708</td>\n",
       "      <td>0.000075</td>\n",
       "      <td>0.69659</td>\n",
       "    </tr>\n",
       "    <tr>\n",
       "      <th>2</th>\n",
       "      <td>1</td>\n",
       "      <td>0.76722</td>\n",
       "      <td>1.5725</td>\n",
       "      <td>0.38998</td>\n",
       "      <td>0.97755</td>\n",
       "      <td>1.00000</td>\n",
       "      <td>0.80812</td>\n",
       "      <td>0.007457</td>\n",
       "      <td>0.010121</td>\n",
       "      <td>0.011897</td>\n",
       "      <td>0.057445</td>\n",
       "      <td>0.003289</td>\n",
       "      <td>0.000921</td>\n",
       "      <td>0.000038</td>\n",
       "      <td>0.44348</td>\n",
       "    </tr>\n",
       "    <tr>\n",
       "      <th>3</th>\n",
       "      <td>1</td>\n",
       "      <td>0.73797</td>\n",
       "      <td>1.4597</td>\n",
       "      <td>0.35376</td>\n",
       "      <td>0.97566</td>\n",
       "      <td>1.00000</td>\n",
       "      <td>0.81697</td>\n",
       "      <td>0.006877</td>\n",
       "      <td>0.008607</td>\n",
       "      <td>0.015950</td>\n",
       "      <td>0.065491</td>\n",
       "      <td>0.004271</td>\n",
       "      <td>0.001154</td>\n",
       "      <td>0.000066</td>\n",
       "      <td>0.58785</td>\n",
       "    </tr>\n",
       "    <tr>\n",
       "      <th>4</th>\n",
       "      <td>1</td>\n",
       "      <td>0.82301</td>\n",
       "      <td>1.7707</td>\n",
       "      <td>0.44462</td>\n",
       "      <td>0.97698</td>\n",
       "      <td>1.00000</td>\n",
       "      <td>0.75493</td>\n",
       "      <td>0.007428</td>\n",
       "      <td>0.010042</td>\n",
       "      <td>0.007938</td>\n",
       "      <td>0.045339</td>\n",
       "      <td>0.002051</td>\n",
       "      <td>0.000560</td>\n",
       "      <td>0.000024</td>\n",
       "      <td>0.34214</td>\n",
       "    </tr>\n",
       "  </tbody>\n",
       "</table>\n",
       "</div>"
      ],
      "text/plain": [
       "   Class  Eccentricity  Aspect Ratio  Elongation  Solidity  \\\n",
       "0      1       0.72694        1.4742     0.32396   0.98535   \n",
       "1      1       0.74173        1.5257     0.36116   0.98152   \n",
       "2      1       0.76722        1.5725     0.38998   0.97755   \n",
       "3      1       0.73797        1.4597     0.35376   0.97566   \n",
       "4      1       0.82301        1.7707     0.44462   0.97698   \n",
       "\n",
       "   Stochastic Convexity  Isoperimetric Factor  Maximal Indentation Depth  \\\n",
       "0               1.00000               0.83592                   0.004657   \n",
       "1               0.99825               0.79867                   0.005242   \n",
       "2               1.00000               0.80812                   0.007457   \n",
       "3               1.00000               0.81697                   0.006877   \n",
       "4               1.00000               0.75493                   0.007428   \n",
       "\n",
       "   Lobedness  Average Intensity  Average Contrast  Smoothness  Third moment  \\\n",
       "0   0.003947           0.047790          0.127950    0.016108      0.005232   \n",
       "1   0.005002           0.024160          0.090476    0.008119      0.002708   \n",
       "2   0.010121           0.011897          0.057445    0.003289      0.000921   \n",
       "3   0.008607           0.015950          0.065491    0.004271      0.001154   \n",
       "4   0.010042           0.007938          0.045339    0.002051      0.000560   \n",
       "\n",
       "   Uniformity  Entropy  \n",
       "0    0.000275  1.17560  \n",
       "1    0.000075  0.69659  \n",
       "2    0.000038  0.44348  \n",
       "3    0.000066  0.58785  \n",
       "4    0.000024  0.34214  "
      ]
     },
     "execution_count": 8,
     "metadata": {},
     "output_type": "execute_result"
    }
   ],
   "source": [
    "# import the dataset\n",
    "df = pd.read_csv('Dataset/leaf.csv',names=['Class','Specimen Number','Eccentricity','Aspect Ratio','Elongation','Solidity','Stochastic Convexity','Isoperimetric Factor','Maximal Indentation Depth','Lobedness','Average Intensity','Average Contrast','Smoothness','Third moment','Uniformity','Entropy'])\n",
    "df.drop('Specimen Number', axis=1, inplace=True)\n",
    "df.head()"
   ]
  },
  {
   "cell_type": "code",
   "execution_count": 9,
   "metadata": {},
   "outputs": [],
   "source": [
    "\n",
    "# Select the columns to be standardized\n",
    "columns_to_standardize = ['Eccentricity', 'Aspect Ratio', 'Elongation', 'Solidity', 'Stochastic Convexity',\n",
    "                          'Isoperimetric Factor', 'Maximal Indentation Depth', 'Lobedness', 'Average Intensity',\n",
    "                          'Average Contrast', 'Smoothness', 'Third moment', 'Uniformity', 'Entropy']\n",
    "\n",
    "# Create a StandardScaler object\n",
    "scaler = StandardScaler()\n",
    "\n",
    "# Fit the scaler to the data and transform the selected columns\n",
    "df[columns_to_standardize] = scaler.fit_transform(df[columns_to_standardize])\n"
   ]
  },
  {
   "cell_type": "code",
   "execution_count": 10,
   "metadata": {},
   "outputs": [
    {
     "name": "stdout",
     "output_type": "stream",
     "text": [
      "Training set shape: (272, 14)\n",
      "Test set shape: (68, 14)\n"
     ]
    }
   ],
   "source": [
    "# Split the dataset into training set and test set\n",
    "X_train, X_test, y_train, y_test = train_test_split(df.drop(['Class'],axis=1),df['Class'], test_size=0.2, random_state=42)\n",
    "\n",
    "# Print the shapes of the training set and test set\n",
    "print(\"Training set shape:\", X_train.shape)\n",
    "print(\"Test set shape:\", X_test.shape)"
   ]
  },
  {
   "cell_type": "markdown",
   "metadata": {},
   "source": [
    "# Svm"
   ]
  },
  {
   "cell_type": "code",
   "execution_count": 22,
   "metadata": {},
   "outputs": [
    {
     "name": "stdout",
     "output_type": "stream",
     "text": [
      "Cross-Validation Accuracy: 0.6617647058823529\n"
     ]
    }
   ],
   "source": [
    "# Create the SVM classifier\n",
    "svm_clf = SVC()\n",
    "\n",
    "# Perform cross-validation and calculate accuracy\n",
    "scores = cross_val_score(svm_clf, df.drop('Class', axis=1), df['Class'], cv=5)\n",
    "accuracy = scores.mean()\n",
    "\n",
    "print(\"Cross-Validation Accuracy:\", accuracy)"
   ]
  },
  {
   "cell_type": "markdown",
   "metadata": {},
   "source": [
    "### Grid search"
   ]
  },
  {
   "cell_type": "code",
   "execution_count": 6,
   "metadata": {},
   "outputs": [
    {
     "name": "stdout",
     "output_type": "stream",
     "text": [
      "Best Parameters: {'C': 10, 'decision_function_shape': 'ovo', 'gamma': 0.1, 'kernel': 'linear'}\n"
     ]
    }
   ],
   "source": [
    "# Define the parameter grid\n",
    "param_grid = {\n",
    "    'C': [0.1, 1, 10],\n",
    "    'kernel': ['linear', 'rbf'],\n",
    "    'gamma': [0.1, 1, 10, 'scale'],\n",
    "    'decision_function_shape' : ['ovo','ovr']\n",
    "}\n",
    "\n",
    "# Create the SVM classifier\n",
    "svm_clf = SVC()\n",
    "\n",
    "# Perform grid search\n",
    "grid_search = GridSearchCV(svm_clf, param_grid, cv=5)\n",
    "grid_search.fit(X_train, y_train)\n",
    "\n",
    "# Create the GridSearchCV object\n",
    "grid_search = GridSearchCV(estimator=svm_clf, param_grid=param_grid, cv=5, scoring='accuracy')\n",
    "\n",
    "# Fit the grid search to the data\n",
    "grid_search.fit(X_train, y_train)\n",
    "\n",
    "# Get the best parameters and best score\n",
    "best_params = grid_search.best_params_\n",
    "\n",
    "# Print the best parameters\n",
    "print(\"Best Parameters:\", best_params)"
   ]
  },
  {
   "cell_type": "markdown",
   "metadata": {},
   "source": [
    "### Feature importance"
   ]
  },
  {
   "cell_type": "code",
   "execution_count": 25,
   "metadata": {},
   "outputs": [
    {
     "data": {
      "image/png": "[encoded data removed]",
      "text/plain": [
       "<Figure size 800x550 with 1 Axes>"
      ]
     },
     "metadata": {},
     "output_type": "display_data"
    }
   ],
   "source": [
    "# Get the feature importances from the SVM classifier\n",
    "feature_importances = best_svm_clf.coef_[0]\n",
    "\n",
    "# Sort the feature importances in descending order\n",
    "sorted_indices = feature_importances.argsort()\n",
    "\n",
    "\n",
    "# Get the names of the features\n",
    "feature_names = df.drop('Class', axis=1).columns\n",
    "\n",
    "# Get the number of features\n",
    "num_features = len(feature_names)\n",
    "\n",
    "# Get the accuracy values\n",
    "accuracy_values = []\n",
    "\n",
    "for i in range(1, num_features + 1):\n",
    "    # Select the first i features\n",
    "    selected_features = feature_names[:i]\n",
    "\n",
    "    # Train the SVM classifier with the selected features\n",
    "    svm_clf.fit(X_train[selected_features], y_train)\n",
    "\n",
    "    # Predict the class labels for the test dataset using the trained classifier\n",
    "    svm_pred_labels = svm_clf.predict(X_test[selected_features])\n",
    "\n",
    "    # Calculate the accuracy\n",
    "    accuracy = accuracy_score(y_test, svm_pred_labels)\n",
    "\n",
    "    # Append the accuracy to the list\n",
    "    accuracy_values.append(accuracy)\n",
    "\n",
    "# Plot the accuracy vs the number of features\n",
    "plt.plot(range(1, num_features + 1), accuracy_values)\n",
    "plt.xlabel('Number of Features')\n",
    "plt.ylabel('Accuracy')\n",
    "plt.title('Accuracy vs Number of Features')\n",
    "plt.show()"
   ]
  },
  {
   "cell_type": "markdown",
   "metadata": {},
   "source": [
    "# Results"
   ]
  },
  {
   "cell_type": "code",
   "execution_count": 14,
   "metadata": {},
   "outputs": [
    {
     "name": "stdout",
     "output_type": "stream",
     "text": [
      "Cross Accuracy: 0.7764705882352941\n",
      "Weighted Accuracy: 0.7766666666666666\n",
      "F1 Score: 0.7624229691876752\n"
     ]
    }
   ],
   "source": [
    "clf = SVC(**best_params)\n",
    "\n",
    "# Calculate the cross-validation scores\n",
    "scores = cross_val_score(clf, df.drop('Class', axis=1), df['Class'], cv=5)\n",
    "accuracy = scores.mean()\n",
    "\n",
    "# Calculate the weighted accuracy\n",
    "scorer = make_scorer(balanced_accuracy_score)\n",
    "scores = cross_val_score(clf, df.drop('Class', axis=1), df['Class'], cv=5, scoring=scorer)\n",
    "balanced_acc = scores.mean()\n",
    "\n",
    "# Calculate the f1 score\n",
    "scorer = make_scorer(f1_score, average='weighted')\n",
    "scores = cross_val_score(clf, df.drop('Class', axis=1), df['Class'], cv=5, scoring=scorer)\n",
    "f1 = scores.mean()\n",
    "\n",
    "\n",
    "# Print the best parameters and best score\n",
    "print(\"Cross Accuracy:\", accuracy)\n",
    "print(\"Weighted Accuracy:\", balanced_acc)\n",
    "print(\"F1 Score:\", f1)"
   ]
  }
 ],
 "metadata": {
  "kernelspec": {
   "display_name": "base",
   "language": "python",
   "name": "python3"
  },
  "language_info": {
   "codemirror_mode": {
    "name": "ipython",
    "version": 3
   },
   "file_extension": ".py",
   "mimetype": "text/x-python",
   "name": "python",
   "nbconvert_exporter": "python",
   "pygments_lexer": "ipython3",
   "version": "3.11.4"
  }
 },
 "nbformat": 4,
 "nbformat_minor": 2
}
